{
 "cells": [
  {
   "cell_type": "code",
   "execution_count": 7,
   "metadata": {
    "colab": {
     "base_uri": "https://localhost:8080/"
    },
    "id": "DKGpBGVfWPVF",
    "outputId": "a94d2571-6b05-4e5d-f4f2-9155d206f2e9"
   },
   "outputs": [
    {
     "name": "stdout",
     "output_type": "stream",
     "text": [
      "Looking in indexes: https://pypi.org/simple, https://us-python.pkg.dev/colab-wheels/public/simple/\n",
      "Requirement already satisfied: plac in /usr/local/lib/python3.8/dist-packages (1.3.5)\n"
     ]
    }
   ],
   "source": [
    "pip install plac"
   ]
  },
  {
   "cell_type": "code",
   "execution_count": 54,
   "metadata": {
    "id": "L1PxdwaOBt6u"
   },
   "outputs": [],
   "source": [
    "import spacy\n",
    "import json\n",
    "\n",
    "nlp = spacy.load('en_core_web_sm')"
   ]
  },
  {
   "cell_type": "code",
   "execution_count": 55,
   "metadata": {
    "id": "_zHUtnsoWEpC"
   },
   "outputs": [],
   "source": [
    "from __future__ import unicode_literals, print_function\n",
    "import plac\n",
    "import random\n",
    "from pathlib import Path\n",
    "import spacy\n",
    "from tqdm import tqdm "
   ]
  },
  {
   "cell_type": "code",
   "execution_count": 56,
   "metadata": {
    "id": "rX6iVRBwBuym"
   },
   "outputs": [],
   "source": [
    "import json\n",
    "\n",
    "with open('LabelledData.jsonl', 'r') as json_file:\n",
    "    json_list = list(json_file)\n",
    "TRAIN_DATA = []\n",
    "for json_str in json_list:\n",
    "    result = json.loads(json_str)\n",
    "    TRAIN_DATA.append(result)\n"
   ]
  },
  {
   "cell_type": "code",
   "execution_count": 106,
   "metadata": {
    "colab": {
     "base_uri": "https://localhost:8080/"
    },
    "id": "oCd9gj4Qk4sB",
    "outputId": "04850ccc-e73d-4bb1-b64a-355c31e46ac8"
   },
   "outputs": [
    {
     "data": {
      "text/plain": [
       "[[0, 14, 'PEDAGOGIC'], [129, 133, 'DATE'], [220, 233, 'PEDAGOGIC']]"
      ]
     },
     "execution_count": 106,
     "metadata": {},
     "output_type": "execute_result"
    }
   ],
   "source": [
    "TRAIN_DATA[2]['label']"
   ]
  },
  {
   "cell_type": "code",
   "execution_count": 58,
   "metadata": {
    "id": "dTsb-8xWmGyF"
   },
   "outputs": [],
   "source": [
    "for s in TRAIN_DATA:\n",
    "\tremove_key = s.pop(\"id\", None)\n"
   ]
  },
  {
   "cell_type": "code",
   "execution_count": 127,
   "metadata": {
    "colab": {
     "base_uri": "https://localhost:8080/",
     "height": 53
    },
    "id": "l9Y7x_AomgQ3",
    "outputId": "cf51cd4b-0151-4d72-c535-e12424ab4ca4"
   },
   "outputs": [
    {
     "data": {
      "application/vnd.google.colaboratory.intrinsic+json": {
       "type": "string"
      },
      "text/plain": [
       "'**Free @user course**coming soon ~ Strategic Planning for Online Learning: A Whole School Approach written by @user Become digitally informed, help your school respond to technology-driven change &amp; be equipped to lead the digital agenda. \\n@OUFreeLearning http'"
      ]
     },
     "execution_count": 127,
     "metadata": {},
     "output_type": "execute_result"
    }
   ],
   "source": [
    "TRAIN_DATA[5][text]"
   ]
  },
  {
   "cell_type": "code",
   "execution_count": 172,
   "metadata": {
    "colab": {
     "base_uri": "https://localhost:8080/"
    },
    "id": "FQYaMtBm_Udr",
    "outputId": "367034ca-89d5-4bbc-e88c-ba94da6d4e3e"
   },
   "outputs": [
    {
     "data": {
      "text/plain": [
       "[[83, 90, 'LEVEL']]"
      ]
     },
     "execution_count": 172,
     "metadata": {},
     "output_type": "execute_result"
    }
   ],
   "source": [
    "TRAIN_DATA[5]['label']"
   ]
  },
  {
   "cell_type": "code",
   "execution_count": 165,
   "metadata": {
    "id": "YGSeh9G88LzP"
   },
   "outputs": [],
   "source": [
    "import pandas as pd\n",
    "import os\n",
    "from tqdm import tqdm\n",
    "import spacy\n",
    "from spacy.tokens import DocBin\n",
    "\n",
    "nlp = spacy.load(\"en_core_web_sm\") # load other spacy model\n",
    "\n",
    "db = DocBin() # create a DocBin object\n",
    "\n"
   ]
  },
  {
   "cell_type": "code",
   "execution_count": 176,
   "metadata": {
    "colab": {
     "base_uri": "https://localhost:8080/"
    },
    "id": "ahp_lgXpA6Tr",
    "outputId": "b6acf3cc-465d-4ffb-8a39-170791ff5fc4"
   },
   "outputs": [
    {
     "name": "stdout",
     "output_type": "stream",
     "text": [
      "Skipping entity\n",
      "Skipping entity\n",
      "Skipping entity\n",
      "Skipping entity\n",
      "Skipping entity\n",
      "Skipping entity\n",
      "Skipping entity\n",
      "Skipping entity\n",
      "Skipping entity\n",
      "Skipping entity\n",
      "Skipping entity\n",
      "Skipping entity\n",
      "Skipping entity\n",
      "Skipping entity\n",
      "Skipping entity\n",
      "Skipping entity\n",
      "Skipping entity\n",
      "Skipping entity\n",
      "Skipping entity\n",
      "Skipping entity\n",
      "Skipping entity\n",
      "Skipping entity\n",
      "Skipping entity\n",
      "Skipping entity\n",
      "Skipping entity\n",
      "Skipping entity\n",
      "Skipping entity\n"
     ]
    }
   ],
   "source": [
    "for i in  range(0, len(TRAIN_DATA)-1):\n",
    "  texts = TRAIN_DATA[i]['text'] \n",
    "  doc = nlp.make_doc(texts)\n",
    "  ents = []\n",
    "  for start, end, label in TRAIN_DATA[i]['label'] : # add character indexes\n",
    "        span = doc.char_span(start, end, label=label, alignment_mode=\"contract\")\n",
    "        if span is None:\n",
    "            print(\"Skipping entity\")\n",
    "        else:\n",
    "            ents.append(span)\n",
    "  doc.ents = ents\n",
    "  db.add(doc)\n",
    "\n",
    "  db.to_disk(\"./train.spacy\") # save the docbin object"
   ]
  },
  {
   "cell_type": "code",
   "execution_count": 178,
   "metadata": {
    "colab": {
     "base_uri": "https://localhost:8080/"
    },
    "id": "iLGkW2JtoBbL",
    "outputId": "ee8c3fde-6d12-4390-d479-000210043e6e"
   },
   "outputs": [
    {
     "name": "stdout",
     "output_type": "stream",
     "text": [
      "2022-12-03 17:39:06.314330: E tensorflow/stream_executor/cuda/cuda_driver.cc:271] failed call to cuInit: CUDA_ERROR_NO_DEVICE: no CUDA-capable device is detected\n",
      "\u001b[38;5;2m✔ Auto-filled config with all values\u001b[0m\n",
      "\u001b[38;5;2m✔ Saved config\u001b[0m\n",
      "config.cfg\n",
      "You can now add your data and train your pipeline:\n",
      "python -m spacy train config.cfg --paths.train ./train.spacy --paths.dev ./dev.spacy\n"
     ]
    }
   ],
   "source": [
    "#Filling the Config file\n",
    "\n",
    "!python -m spacy init fill-config base_config.cfg config.cfg\n"
   ]
  },
  {
   "cell_type": "code",
   "execution_count": 179,
   "metadata": {
    "colab": {
     "base_uri": "https://localhost:8080/"
    },
    "id": "5hDDyP_wEspB",
    "outputId": "edda813e-6db8-4372-e9f5-c598c3348d9e"
   },
   "outputs": [
    {
     "name": "stdout",
     "output_type": "stream",
     "text": [
      "2022-12-03 17:43:23.598255: E tensorflow/stream_executor/cuda/cuda_driver.cc:271] failed call to cuInit: CUDA_ERROR_NO_DEVICE: no CUDA-capable device is detected\n",
      "\u001b[38;5;2m✔ Created output directory: output\u001b[0m\n",
      "\u001b[38;5;4mℹ Saving to output directory: output\u001b[0m\n",
      "\u001b[38;5;4mℹ Using CPU\u001b[0m\n",
      "\u001b[1m\n",
      "=========================== Initializing pipeline ===========================\u001b[0m\n",
      "[2022-12-03 17:43:24,627] [INFO] Set up nlp object from config\n",
      "INFO:spacy:Set up nlp object from config\n",
      "[2022-12-03 17:43:24,640] [INFO] Pipeline: ['tok2vec', 'ner']\n",
      "INFO:spacy:Pipeline: ['tok2vec', 'ner']\n",
      "[2022-12-03 17:43:24,644] [INFO] Created vocabulary\n",
      "INFO:spacy:Created vocabulary\n",
      "[2022-12-03 17:43:24,646] [INFO] Finished initializing nlp object\n",
      "INFO:spacy:Finished initializing nlp object\n",
      "[2022-12-03 17:43:25,264] [INFO] Initialized pipeline components: ['tok2vec', 'ner']\n",
      "INFO:spacy:Initialized pipeline components: ['tok2vec', 'ner']\n",
      "\u001b[38;5;2m✔ Initialized pipeline\u001b[0m\n",
      "\u001b[1m\n",
      "============================= Training pipeline =============================\u001b[0m\n",
      "\u001b[38;5;4mℹ Pipeline: ['tok2vec', 'ner']\u001b[0m\n",
      "\u001b[38;5;4mℹ Initial learn rate: 0.001\u001b[0m\n",
      "E    #       LOSS TOK2VEC  LOSS NER  ENTS_F  ENTS_P  ENTS_R  SCORE \n",
      "---  ------  ------------  --------  ------  ------  ------  ------\n",
      "  0       0          0.00     34.04    0.00    0.00    0.00    0.00\n",
      "  0     200         44.69   1753.47   51.94   51.98   51.90    0.52\n",
      "  2     400        670.15   1006.19   75.24   73.13   77.47    0.75\n",
      "  3     600       1421.97   1007.33   78.49   76.56   80.52    0.78\n",
      "  5     800        109.66    907.36   81.35   74.46   89.65    0.81\n",
      "  8    1000        124.90   1051.23   81.42   77.81   85.39    0.81\n",
      " 11    1200         61.05   1152.02   85.66   77.10   96.35    0.86\n",
      " 15    1400         61.93   1388.87   85.77   78.51   94.52    0.86\n",
      " 19    1600         59.76   1669.45   86.24   78.05   96.35    0.86\n",
      " 25    1800         64.58   1948.91   85.55   78.99   93.30    0.86\n",
      " 32    2000         68.01   2342.85   86.74   78.08   97.56    0.87\n",
      " 41    2200         74.01   2865.36   86.58   79.02   95.74    0.87\n",
      " 51    2400         82.83   3346.56   86.78   78.55   96.96    0.87\n",
      " 61    2600         80.70   3399.00   87.28   78.56   98.17    0.87\n",
      " 72    2800         82.67   3312.02   87.33   79.04   97.56    0.87\n",
      " 82    3000         79.00   3327.15   87.33   79.04   97.56    0.87\n",
      " 93    3200         73.01   3287.41   87.33   79.04   97.56    0.87\n",
      "103    3400         80.88   3328.62   86.88   79.52   95.74    0.87\n",
      "114    3600         76.18   3320.59   86.37   79.51   94.52    0.86\n",
      "125    3800         72.98   3268.19   87.33   79.04   97.56    0.87\n",
      "135    4000         79.88   3281.31   87.33   79.04   97.56    0.87\n",
      "146    4200         69.77   3241.61   87.18   77.65   99.39    0.87\n",
      "156    4400         73.40   3280.57   87.23   78.10   98.78    0.87\n",
      "\u001b[38;5;2m✔ Saved pipeline to output directory\u001b[0m\n",
      "output/model-last\n"
     ]
    }
   ],
   "source": [
    "#Run the Training \n",
    "\n",
    "!python -m spacy train config.cfg --output ./output --paths.train ./train.spacy --paths.dev ./train.spacy "
   ]
  },
  {
   "cell_type": "code",
   "execution_count": 189,
   "metadata": {
    "id": "S3aD4Nm3F5LG"
   },
   "outputs": [],
   "source": [
    "nlp1 = spacy.load(r\"/content/output/model-best\") #load the best model\n",
    "\n",
    "\n",
    "\n",
    "     \n"
   ]
  },
  {
   "cell_type": "code",
   "execution_count": 193,
   "metadata": {
    "colab": {
     "base_uri": "https://localhost:8080/",
     "height": 52
    },
    "id": "-r5kU_gLJaM2",
    "outputId": "d632c85b-92cf-4bd4-ec47-b0b99d1d2269"
   },
   "outputs": [
    {
     "data": {
      "text/html": [
       "<span class=\"tex2jax_ignore\"><div class=\"entities\" style=\"line-height: 2.5; direction: ltr\">In \n",
       "<mark class=\"entity\" style=\"background: #bfe1d9; padding: 0.45em 0.6em; margin: 0 0.25em; line-height: 1; border-radius: 0.35em;\">\n",
       "    2020\n",
       "    <span style=\"font-size: 0.8em; font-weight: bold; line-height: 1; border-radius: 0.35em; vertical-align: middle; margin-left: 0.5rem\">DATE</span>\n",
       "</mark>\n",
       " , an ESI \n",
       "<mark class=\"entity\" style=\"background: #aa9cfc; padding: 0.45em 0.6em; margin: 0 0.25em; line-height: 1; border-radius: 0.35em;\">\n",
       "    Student\n",
       "    <span style=\"font-size: 0.8em; font-weight: bold; line-height: 1; border-radius: 0.35em; vertical-align: middle; margin-left: 0.5rem\">PERSON</span>\n",
       "</mark>\n",
       "  got covid  </div></span>"
      ],
      "text/plain": [
       "<IPython.core.display.HTML object>"
      ]
     },
     "metadata": {},
     "output_type": "display_data"
    }
   ],
   "source": [
    "doc = nlp1(\"In 2020 , an ESI Student  got covid  \") # input sample text\n",
    "\n",
    "spacy.displacy.render(doc, style=\"ent\", jupyter=True) # display in Jupyter\n"
   ]
  },
  {
   "cell_type": "markdown",
   "metadata": {
    "id": "pBzESrXJJlc-"
   },
   "source": [
    "# Done "
   ]
  },
  {
   "cell_type": "markdown",
   "metadata": {},
   "source": [
    "### By : MAANE Aymane"
   ]
  },
  {
   "cell_type": "markdown",
   "metadata": {},
   "source": [
    "#2022"
   ]
  }
 ],
 "metadata": {
  "colab": {
   "provenance": []
  },
  "kernelspec": {
   "display_name": "Python 3 (ipykernel)",
   "language": "python",
   "name": "python3"
  },
  "language_info": {
   "codemirror_mode": {
    "name": "ipython",
    "version": 3
   },
   "file_extension": ".py",
   "mimetype": "text/x-python",
   "name": "python",
   "nbconvert_exporter": "python",
   "pygments_lexer": "ipython3",
   "version": "3.9.2"
  }
 },
 "nbformat": 4,
 "nbformat_minor": 4
}
