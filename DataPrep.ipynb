{
 "cells": [
  {
   "cell_type": "code",
   "execution_count": 1,
   "id": "d093dffc-9381-4093-8f52-11323f2f79c6",
   "metadata": {},
   "outputs": [],
   "source": [
    "import numpy as np \n",
    "import pandas as pd \n",
    "from transformers import AutoTokenizer, AutoModelForSequenceClassification\n",
    "from scipy.special import softmax"
   ]
  },
  {
   "cell_type": "code",
   "execution_count": 3,
   "id": "9262ef4a-055a-427c-9ef2-59b9d841ad3d",
   "metadata": {},
   "outputs": [],
   "source": [
    "#read configs \n",
    "df = pd.read_csv('./DataScraped1.csv' , delimiter= ';' )"
   ]
  },
  {
   "cell_type": "code",
   "execution_count": 4,
   "id": "940a5588-ba49-4da4-b9b4-abbb36df7094",
   "metadata": {},
   "outputs": [
    {
     "data": {
      "text/plain": [
       "0      @DanHogan95 @NicoleAuerbach The goal is probab...\n",
       "1      @Utwitily @escaflonase especially after covid....\n",
       "2      Online Classes\\n\\nOnline classes have been aro...\n",
       "3      @angrybklynmom @Missy_E36 They start at Kinder...\n",
       "4      EC member Seema Das said online education was ...\n",
       "                             ...                        \n",
       "986    Covid-19 Report For 12th July\\n\\nNew Positive ...\n",
       "987    @ABSCBNNews yes. ndi na ganon ka fatal ang eff...\n",
       "988    The Asia Classroom (TAC) is a youth focused on...\n",
       "989    @SJB56856832 Corona(Online Class) Engineer ஆக ...\n",
       "990    The COVID-19 pandemic was the first exposure t...\n",
       "Name: text, Length: 991, dtype: object"
      ]
     },
     "execution_count": 4,
     "metadata": {},
     "output_type": "execute_result"
    }
   ],
   "source": [
    "df['tweet']"
   ]
  },
  {
   "cell_type": "code",
   "execution_count": 5,
   "id": "bd7cc119-7456-4306-8529-0cbd25efb9b4",
   "metadata": {},
   "outputs": [],
   "source": [
    "Tweets = []"
   ]
  },
  {
   "cell_type": "code",
   "execution_count": 6,
   "id": "864ec077-8ae1-44e0-9797-0a9101be6118",
   "metadata": {},
   "outputs": [],
   "source": [
    "for i in df['tweet'] : \n",
    "    Tweets.append( i )"
   ]
  },
  {
   "cell_type": "code",
   "execution_count": 7,
   "id": "4266cb2e-b0f1-4d38-965f-f212a4895441",
   "metadata": {},
   "outputs": [
    {
     "data": {
      "text/plain": [
       "'@sarahksojourner @fucklongcovid @GaloresCircus Definitely a lot of new homeschoolers and online school families, homeschooling families who aren’t taking any precautions are still getting COVID'"
      ]
     },
     "execution_count": 7,
     "metadata": {},
     "output_type": "execute_result"
    }
   ],
   "source": [
    "df['tweet'][6]"
   ]
  },
  {
   "cell_type": "code",
   "execution_count": 8,
   "id": "d73a1153-18c2-4425-8302-cadaea526681",
   "metadata": {},
   "outputs": [
    {
     "data": {
      "text/plain": [
       "'@sarahksojourner @fucklongcovid @GaloresCircus Definitely a lot of new homeschoolers and online school families, homeschooling families who aren’t taking any precautions are still getting COVID'"
      ]
     },
     "execution_count": 8,
     "metadata": {},
     "output_type": "execute_result"
    }
   ],
   "source": [
    "Tweets[6]"
   ]
  },
  {
   "cell_type": "code",
   "execution_count": 9,
   "id": "0c570d22-9ca7-4b75-a324-120bed2decbf",
   "metadata": {},
   "outputs": [
    {
     "name": "stdout",
     "output_type": "stream",
     "text": [
      "@user @user @user Definitely a lot of new homeschoolers and online school families, homeschooling families who aren’t taking any precautions are still getting COVID\n"
     ]
    }
   ],
   "source": [
    "# Application on One tweet \n",
    "# Preparing TWEETS \n",
    "\n",
    "tweet = Tweets[6]\n",
    "tweet_words = []\n",
    "for word in tweet.split(' '):\n",
    "        if word.startswith('@') and len(word) > 1 : \n",
    "            word = '@user'\n",
    "        \n",
    "        elif word.startswith('http'):\n",
    "            word = 'http'\n",
    "        tweet_words.append(word)\n",
    "tweet_proc = \" \".join(tweet_words)\n",
    "print(tweet_proc)"
   ]
  },
  {
   "cell_type": "code",
   "execution_count": 13,
   "id": "369a65bd-91cc-409b-9fe3-ec4f176b2d53",
   "metadata": {},
   "outputs": [
    {
     "data": {
      "text/plain": [
       "'Online Classes\\n\\nOnline classes have been around for as long as we’ve had mobile internet devices, but after covid-19 lockdown in 2020, it became more popular. Thanks to the benefits people got from it, we can boldly say online classes are here to stay.\\n\\nhttps://t.co/10Vr9Qz5Xb https://t.co/aXl0WJG1JJ'"
      ]
     },
     "execution_count": 13,
     "metadata": {},
     "output_type": "execute_result"
    }
   ],
   "source": [
    "Tweets[2]"
   ]
  },
  {
   "cell_type": "code",
   "execution_count": 19,
   "id": "1a711fc0-44a0-4781-a063-6fbeb29c72c2",
   "metadata": {},
   "outputs": [],
   "source": [
    "df.to_csv('Data/DataScrapedCleaned.csv'  , index = False ) "
   ]
  },
  {
   "cell_type": "markdown",
   "id": "51e34ee1-4b1f-43a6-92d5-3b284356217a",
   "metadata": {},
   "source": [
    "# Done "
   ]
  },
  {
   "cell_type": "markdown",
   "id": "27cd62f0-93ef-4ed4-81ed-329bb46caca1",
   "metadata": {},
   "source": [
    "### By : MAANE Aymane"
   ]
  }
 ],
 "metadata": {
  "kernelspec": {
   "display_name": "Python 3 (ipykernel)",
   "language": "python",
   "name": "python3"
  },
  "language_info": {
   "codemirror_mode": {
    "name": "ipython",
    "version": 3
   },
   "file_extension": ".py",
   "mimetype": "text/x-python",
   "name": "python",
   "nbconvert_exporter": "python",
   "pygments_lexer": "ipython3",
   "version": "3.9.2"
  }
 },
 "nbformat": 4,
 "nbformat_minor": 5
}
